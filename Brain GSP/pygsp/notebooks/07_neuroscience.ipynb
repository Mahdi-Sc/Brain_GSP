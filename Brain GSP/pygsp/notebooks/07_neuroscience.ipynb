{
 "cells": [
  {
   "cell_type": "markdown",
   "metadata": {},
   "source": [
    "# 7 Applications to neuroscience"
   ]
  },
  {
   "cell_type": "code",
   "execution_count": null,
   "metadata": {},
   "outputs": [],
   "source": [
    "from pathlib import Path\n",
    "\n",
    "import numpy as np\n",
    "import matplotlib as mpl\n",
    "import matplotlib.animation\n",
    "import matplotlib.pyplot as plt\n",
    "from scipy import io as sio\n",
    "import pygsp as pg\n",
    "import IPython.display as ipd"
   ]
  },
  {
   "cell_type": "markdown",
   "metadata": {},
   "source": [
    "## 7.1 Brain data\n",
    "\n",
    "The data is one subject from the [human connectome project dataset](https://db.humanconnectome.org/).\n",
    "There are both a graph and graph signals:\n",
    "* `SC.mat`: brain structural connectivity matrix obtained from MRI diffusion imaging (our graph),\n",
    "* `RS_TCs.mat`: functional signals obtained from resting-state fMRI (our graph signals),\n",
    "* `Glasser360_2mm_codebook.mat`: 3D positions of the nodes in MNI coordinates (to layout the graph).\n",
    "\n",
    "For both modalities, the brain atlas from Glasser et al (Nature 2016) is used, parcellating the brain into 360 regions."
   ]
  },
  {
   "cell_type": "code",
   "execution_count": null,
   "metadata": {},
   "outputs": [],
   "source": [
    "datadir = Path('../data')"
   ]
  },
  {
   "cell_type": "markdown",
   "metadata": {},
   "source": [
    "### 7.1.1 Structural connectivity graph\n",
    "\n",
    "Load the connectivity matrix."
   ]
  },
  {
   "cell_type": "code",
   "execution_count": null,
   "metadata": {},
   "outputs": [],
   "source": [
    "connectivity = sio.loadmat(datadir / 'SC.mat')['SC']\n",
    "n_regions, n_regions = connectivity.shape\n",
    "print(f'{n_regions} brain regions')"
   ]
  },
  {
   "cell_type": "markdown",
   "metadata": {},
   "source": [
    "Look at the structure of the connectivity matrix. Can you identify regions / communities?"
   ]
  },
  {
   "cell_type": "code",
   "execution_count": null,
   "metadata": {},
   "outputs": [],
   "source": [
    "# Your code here."
   ]
  },
  {
   "cell_type": "markdown",
   "metadata": {},
   "source": [
    "Look at the distribution of connection weights."
   ]
  },
  {
   "cell_type": "code",
   "execution_count": null,
   "metadata": {},
   "outputs": [],
   "source": [
    "# Your code here."
   ]
  },
  {
   "cell_type": "markdown",
   "metadata": {},
   "source": [
    "Build a PyGSP graph from the connectivity matrix. Use the normalized Laplacian."
   ]
  },
  {
   "cell_type": "code",
   "execution_count": null,
   "metadata": {},
   "outputs": [],
   "source": [
    "# Your code here.\n",
    "\n",
    "print(f'{graph.N:_} nodes')\n",
    "print(f'{graph.Ne:_} edges')\n",
    "print(f'connected: {graph.is_connected()}')\n",
    "print(f'directed: {graph.is_directed()}')"
   ]
  },
  {
   "cell_type": "markdown",
   "metadata": {},
   "source": [
    "Look at the degree distribution."
   ]
  },
  {
   "cell_type": "code",
   "execution_count": null,
   "metadata": {},
   "outputs": [],
   "source": [
    "# Your code here."
   ]
  },
  {
   "cell_type": "markdown",
   "metadata": {},
   "source": [
    "Look at the eigenvalues. If the graph is correct, you should find back the figure Giulia presented."
   ]
  },
  {
   "cell_type": "code",
   "execution_count": null,
   "metadata": {},
   "outputs": [],
   "source": [
    "# Your code here."
   ]
  },
  {
   "cell_type": "markdown",
   "metadata": {},
   "source": [
    "Look at the graph, with a force-directed layout."
   ]
  },
  {
   "cell_type": "code",
   "execution_count": null,
   "metadata": {},
   "outputs": [],
   "source": [
    "# Your code here."
   ]
  },
  {
   "cell_type": "markdown",
   "metadata": {},
   "source": [
    "Now embed the graph in 3D using the real positions of the regions. Look at it again."
   ]
  },
  {
   "cell_type": "code",
   "execution_count": null,
   "metadata": {},
   "outputs": [],
   "source": [
    "coordinates = sio.loadmat(datadir / 'Glasser360_2mm_codebook.mat')['codeBook']\n",
    "graph.coords = np.stack([coordinates[0, 0][-2][0][region][:, 0] for region in range(n_regions)])\n",
    "\n",
    "fig = plt.figure(figsize=(10, 10))\n",
    "ax = fig.add_subplot(1, 1, 1, projection='3d')\n",
    "graph.plot(ax=ax)\n",
    "ax.set_aspect('equal', adjustable='box')"
   ]
  },
  {
   "cell_type": "markdown",
   "metadata": {},
   "source": [
    "Plot some of the first eigenvectors of the normalized Laplacian, on the 3D embedded graph. Can you identify how the brain is splitted?"
   ]
  },
  {
   "cell_type": "code",
   "execution_count": null,
   "metadata": {},
   "outputs": [],
   "source": [
    "n_eigenvectors = 5\n",
    "\n",
    "# Your code here."
   ]
  },
  {
   "cell_type": "markdown",
   "metadata": {},
   "source": [
    "Project the graph in 2D, by ignoring the z coordinate. Plot again some eigenvectors."
   ]
  },
  {
   "cell_type": "code",
   "execution_count": null,
   "metadata": {},
   "outputs": [],
   "source": [
    "# Your code here."
   ]
  },
  {
   "cell_type": "markdown",
   "metadata": {},
   "source": [
    "### 7.1.2 Functional activity (fMRI)\n",
    "\n",
    "Load the fMRI signals."
   ]
  },
  {
   "cell_type": "code",
   "execution_count": null,
   "metadata": {},
   "outputs": [],
   "source": [
    "signals = sio.loadmat(datadir / 'RS_TCs.mat')['RS_TCs']\n",
    "assert signals.shape[0] == n_regions"
   ]
  },
  {
   "cell_type": "markdown",
   "metadata": {},
   "source": [
    "See how the signals are correlated across regions."
   ]
  },
  {
   "cell_type": "code",
   "execution_count": null,
   "metadata": {},
   "outputs": [],
   "source": [
    "plt.plot(signals.T);"
   ]
  },
  {
   "cell_type": "code",
   "execution_count": null,
   "metadata": {},
   "outputs": [],
   "source": [
    "plt.plot(signals.mean(axis=0));"
   ]
  },
  {
   "cell_type": "markdown",
   "metadata": {},
   "source": [
    "Look at some time slices of the fMRI signal on the functional connectivity graph."
   ]
  },
  {
   "cell_type": "code",
   "execution_count": null,
   "metadata": {},
   "outputs": [],
   "source": [
    "# Your code here."
   ]
  },
  {
   "cell_type": "markdown",
   "metadata": {},
   "source": [
    "Let's animate the functional activity on the structural graph."
   ]
  },
  {
   "cell_type": "code",
   "execution_count": null,
   "metadata": {},
   "outputs": [],
   "source": [
    "plt.rc('animation', embed_limit=100)\n",
    "fig, ax = plt.subplots(figsize=(5, 5))\n",
    "ax.set_aspect('equal', adjustable='box')\n",
    "ax.axis('off')\n",
    "plt.close(fig)\n",
    "sc = ax.scatter(graph.coords[:, 0], graph.coords[:, 1])\n",
    "cmap = plt.cm.get_cmap()\n",
    "\n",
    "def animate(i):\n",
    "    sc.set_color(cmap(signals[:, i]))\n",
    "    ax.set_title(f'time {i}')\n",
    "    return (sc,)\n",
    "\n",
    "animation = mpl.animation.FuncAnimation(fig, animate, blit=True,\n",
    "                                        frames=signals.shape[1], interval=20)\n",
    "\n",
    "ipd.HTML(animation.to_jshtml())"
   ]
  },
  {
   "cell_type": "markdown",
   "metadata": {},
   "source": [
    "Is the functional signal smooth on the structural graph? Does the smoothness (measured with the Dirichlet form) vary across time?"
   ]
  },
  {
   "cell_type": "code",
   "execution_count": null,
   "metadata": {},
   "outputs": [],
   "source": [
    "# Your code here."
   ]
  },
  {
   "cell_type": "markdown",
   "metadata": {},
   "source": [
    "## 7.1 Analysis of fMRI signals on the brain connectome\n",
    "\n",
    "In this exercise, you will:\n",
    "1. look at the spectral content (w.r.t. the connectome) of functional signals,\n",
    "1. decompose that signal in an aligned (low frequencies) and liberal (high frequencies) component,\n",
    "1. identify which brain regions mostly support aligned and liberal activities. The norms of these reconstructed portions of the signal are considered as measures of alignment/liberality of the functional signal to the structure.\n",
    "\n",
    "All the details and justifications are in the paper [Functional Alignment with Anatomical Networks is Associated with Cognitive Flexibility](https://arxiv.org/abs/1611.08751)."
   ]
  },
  {
   "cell_type": "code",
   "execution_count": null,
   "metadata": {},
   "outputs": [],
   "source": [
    "# Number of eigenvalues to select for low frequencies (aligned functional activity).\n",
    "THRESHOLD = 30 \n",
    "\n",
    "graph.compute_fourier_basis()"
   ]
  },
  {
   "cell_type": "markdown",
   "metadata": {},
   "source": [
    "Look at the norm (across time) of the spectral content of the fMRI signal."
   ]
  },
  {
   "cell_type": "code",
   "execution_count": null,
   "metadata": {},
   "outputs": [],
   "source": [
    "# Your code here."
   ]
  },
  {
   "cell_type": "markdown",
   "metadata": {},
   "source": [
    "Design a complementary pair of ideal low-pass and high-pass filters with a cutoff set at the eigenvalue `graph.e[THRESHOLD]`."
   ]
  },
  {
   "cell_type": "code",
   "execution_count": null,
   "metadata": {},
   "outputs": [],
   "source": [
    "# Your code here."
   ]
  },
  {
   "cell_type": "markdown",
   "metadata": {},
   "source": [
    "Decompose the fMRI signal in an aligned component (which corresponds to low frequencies) and a liberal component (which corresponds to high frequencies)."
   ]
  },
  {
   "cell_type": "code",
   "execution_count": null,
   "metadata": {},
   "outputs": [],
   "source": [
    "# Your code here."
   ]
  },
  {
   "cell_type": "markdown",
   "metadata": {},
   "source": [
    "Plot the original functional signal along with its aligned and liberal decomposition. Plot as an image whose rows correspond to brain regions and columns to time."
   ]
  },
  {
   "cell_type": "code",
   "execution_count": null,
   "metadata": {},
   "outputs": [],
   "source": [
    "# Your code here."
   ]
  },
  {
   "cell_type": "markdown",
   "metadata": {},
   "source": [
    "Compute the norm (across time) of the aligned and liberal components. Plot those two norms as graph signals."
   ]
  },
  {
   "cell_type": "code",
   "execution_count": null,
   "metadata": {},
   "outputs": [],
   "source": [
    "# Your code here."
   ]
  },
  {
   "cell_type": "markdown",
   "metadata": {},
   "source": [
    "Can you identify the brain regions that correpond to activity aligned with the underlying structural graph from the regions that correspond to liberal activity? If you could reproduce the findings of the paper, sensory regions (visual, somatomotor, auditory) should correspond to aligned activity, and high-level cognition (multisensory integration, memory, decision making) should correpond to liberal activity."
   ]
  },
  {
   "cell_type": "markdown",
   "metadata": {},
   "source": [
    "## 7.2 Assessment of significant excursions in fMRI signals\n",
    "\n",
    "In this exercise, you will:\n",
    "1. generate surrogate signals (which have the same frequency content as the real signals) by randomizing the Fourier coefficients,\n",
    "1. test for significant excursions in empirical data against those surrogates.\n",
    "\n",
    "The method has been introduced in [A Spectral Method for Generating Surrogate Graph Signals](http://miplab.epfl.ch/pub/pirondini1601.pdf). A more general picture is drawn in [A Graph Signal Processing Perspective on Functional Brain Imaging](https://miplab.epfl.ch/pub/huang1801.pdf)."
   ]
  },
  {
   "cell_type": "code",
   "execution_count": null,
   "metadata": {},
   "outputs": [],
   "source": [
    "N_SURROGATES = 19\n",
    "print(f'p-value = {1/(N_SURROGATES+1)}')"
   ]
  },
  {
   "cell_type": "markdown",
   "metadata": {},
   "source": [
    "1. Compute the spectrum of the fMRI signal.\n",
    "1. Randomly flip the sign of the Fourier coefficients. Generate one permutation vector per surrogate. Be sure to use the same permutation across time to preserve temporal properties.\n",
    "1. Compute the inverse Fourier transform for each surrogate."
   ]
  },
  {
   "cell_type": "code",
   "execution_count": null,
   "metadata": {},
   "outputs": [],
   "source": [
    "# Your code here."
   ]
  },
  {
   "cell_type": "markdown",
   "metadata": {},
   "source": [
    "Verify that the surrogates do indeed have the same power spectral density (PSD)."
   ]
  },
  {
   "cell_type": "code",
   "execution_count": null,
   "metadata": {},
   "outputs": [],
   "source": [
    "# Your code here."
   ]
  },
  {
   "cell_type": "markdown",
   "metadata": {},
   "source": [
    "Plot the time course of some surrogates. Again, plot as an image whose rows correspond to brain regions and columns to time."
   ]
  },
  {
   "cell_type": "code",
   "execution_count": null,
   "metadata": {},
   "outputs": [],
   "source": [
    "# Your code here."
   ]
  },
  {
   "cell_type": "markdown",
   "metadata": {},
   "source": [
    "Test for significant excursions in empirical data against surrogate signals."
   ]
  },
  {
   "cell_type": "code",
   "execution_count": null,
   "metadata": {},
   "outputs": [],
   "source": [
    "# Take maximum across surrogates: 1/(19+1) = 0.05 p-value (non corrected) for 19 surrogates.\n",
    "# Different thr for different timepoints and nodes.\n",
    "threshold = np.max(np.abs(surrogates), axis=2)\n",
    "excursions = np.abs(signals) > threshold\n",
    "\n",
    "fig, axes = plt.subplots(2, 1, figsize=(10, 8))\n",
    "axes[0].imshow(signals)\n",
    "axes[1].spy(excursions)\n",
    "axes[0].set_title('fMRI - time courses')\n",
    "axes[1].set_title('fMRI - significant excursions');"
   ]
  },
  {
   "cell_type": "markdown",
   "metadata": {},
   "source": [
    "Which brain regions get wild (or tame)?"
   ]
  },
  {
   "cell_type": "code",
   "execution_count": null,
   "metadata": {},
   "outputs": [],
   "source": [
    "percentage = excursions.sum(1) / signals.shape[1]\n",
    "\n",
    "fig, ax = plt.subplots(1, 1, figsize=(7, 7))\n",
    "graph.plot_signal(percentage, ax=ax)\n",
    "ax.set_title('percentage of significant excursions per region')\n",
    "ax.set_aspect('equal', adjustable='box')\n",
    "ax.axis('off');"
   ]
  }
 ],
 "metadata": {
  "kernelspec": {
   "display_name": "Python 3",
   "language": "python",
   "name": "python3"
  },
  "language_info": {
   "codemirror_mode": {
    "name": "ipython",
    "version": 3
   },
   "file_extension": ".py",
   "mimetype": "text/x-python",
   "name": "python",
   "nbconvert_exporter": "python",
   "pygments_lexer": "ipython3",
   "version": "3.7.0"
  }
 },
 "nbformat": 4,
 "nbformat_minor": 2
}
