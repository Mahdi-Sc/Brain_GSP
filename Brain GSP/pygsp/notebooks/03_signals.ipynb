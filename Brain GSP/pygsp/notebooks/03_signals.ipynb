{
 "cells": [
  {
   "cell_type": "markdown",
   "metadata": {},
   "source": [
    "# 3 Graph signals\n",
    "\n",
    "A graph signal is a function $\\mathcal{V} \\rightarrow \\mathbb{R}$ that associates a value to each node $v \\in \\mathcal{V}$ of a graph. The signal values can be represented as a vector $f \\in \\mathbb{R}^N$ where $N = |\\mathcal{V}|$ is the number of nodes in the graph."
   ]
  },
  {
   "cell_type": "code",
   "execution_count": null,
   "metadata": {},
   "outputs": [],
   "source": [
    "import numpy as np\n",
    "from pygsp import graphs"
   ]
  },
  {
   "cell_type": "markdown",
   "metadata": {},
   "source": [
    "Let's generate a graph and a random signal."
   ]
  },
  {
   "cell_type": "code",
   "execution_count": null,
   "metadata": {},
   "outputs": [],
   "source": [
    "graph = graphs.Sensor(N=100)\n",
    "signal = np.random.normal(size=graph.N)"
   ]
  },
  {
   "cell_type": "markdown",
   "metadata": {},
   "source": [
    "We can now plot the signal on the graph to visualize it and see that it's indeed random."
   ]
  },
  {
   "cell_type": "code",
   "execution_count": null,
   "metadata": {},
   "outputs": [],
   "source": [
    "graph.plot_signal(signal)"
   ]
  },
  {
   "cell_type": "markdown",
   "metadata": {},
   "source": [
    "## 3.1 Gradient and divergence\n",
    "\n",
    "The gradient $\\nabla_\\mathcal{G} \\ f$ of the signal $f$ on the graph $\\mathcal{G}$ is a signal on the edges defined as\n",
    "\n",
    "$$(\\nabla_\\mathcal{G})_{(i,j)} \\ f = \\sqrt{W_{ij}} (f_i - f_j)$$"
   ]
  },
  {
   "cell_type": "code",
   "execution_count": null,
   "metadata": {},
   "outputs": [],
   "source": [
    "graph.compute_differential_operator()\n",
    "gradient = graph.D @ signal\n",
    "assert gradient.size == graph.Ne"
   ]
  },
  {
   "cell_type": "markdown",
   "metadata": {},
   "source": [
    "Similarly, we can compute the divergence of an edge signal, which is again a signal on the nodes.\n",
    "\n",
    "$$(\\operatorname{div}_\\mathcal{G} x)_i = \\sum_{j \\sim i} \\sqrt{W_{ij}} x_{(i,j)}$$"
   ]
  },
  {
   "cell_type": "code",
   "execution_count": null,
   "metadata": {},
   "outputs": [],
   "source": [
    "divergence = graph.D.T @ gradient\n",
    "assert divergence.size == graph.N"
   ]
  },
  {
   "cell_type": "code",
   "execution_count": null,
   "metadata": {},
   "outputs": [],
   "source": [
    "graph.plot_signal(divergence)"
   ]
  },
  {
   "cell_type": "markdown",
   "metadata": {},
   "source": [
    "The Laplacian operator is indeed the divergence of the gradient."
   ]
  },
  {
   "cell_type": "code",
   "execution_count": null,
   "metadata": {},
   "outputs": [],
   "source": [
    "np.testing.assert_allclose(graph.L @ signal, divergence)"
   ]
  },
  {
   "cell_type": "markdown",
   "metadata": {},
   "source": [
    "## 3.2 Smoothness"
   ]
  },
  {
   "cell_type": "markdown",
   "metadata": {},
   "source": [
    "The smoothness of a signal can be computed by the quadratic form\n",
    "\n",
    "$$ f^\\intercal L f = \\sum_{i \\sim j} W_{ij} (f_i - f_j)^2 $$"
   ]
  },
  {
   "cell_type": "code",
   "execution_count": null,
   "metadata": {},
   "outputs": [],
   "source": [
    "signal.T @ graph.L @ signal"
   ]
  },
  {
   "cell_type": "markdown",
   "metadata": {},
   "source": [
    "## 3.3 Exercise\n",
    "\n",
    "What is the smoothest graph signal, i.e. the signal $f$ for which $f^\\intercal L f = 0$? Verify computationally."
   ]
  },
  {
   "cell_type": "code",
   "execution_count": null,
   "metadata": {},
   "outputs": [],
   "source": [
    "# Your code here."
   ]
  },
  {
   "cell_type": "markdown",
   "metadata": {},
   "source": [
    "What if $L$ is the normalized Laplacian? Verify computationally."
   ]
  },
  {
   "cell_type": "code",
   "execution_count": null,
   "metadata": {},
   "outputs": [],
   "source": [
    "graph.compute_laplacian('normalized')\n",
    "\n",
    "# Your code here."
   ]
  }
 ],
 "metadata": {
  "kernelspec": {
   "display_name": "Python 3",
   "language": "python",
   "name": "python3"
  },
  "language_info": {
   "codemirror_mode": {
    "name": "ipython",
    "version": 3
   },
   "file_extension": ".py",
   "mimetype": "text/x-python",
   "name": "python",
   "nbconvert_exporter": "python",
   "pygments_lexer": "ipython3",
   "version": "3.7.0"
  }
 },
 "nbformat": 4,
 "nbformat_minor": 2
}
