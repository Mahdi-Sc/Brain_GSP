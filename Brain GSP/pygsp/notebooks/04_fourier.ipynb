{
 "cells": [
  {
   "cell_type": "markdown",
   "metadata": {},
   "source": [
    "# 4 Fourier"
   ]
  },
  {
   "cell_type": "code",
   "execution_count": null,
   "metadata": {},
   "outputs": [],
   "source": [
    "import numpy as np\n",
    "import matplotlib.pyplot as plt\n",
    "from pygsp import graphs"
   ]
  },
  {
   "cell_type": "markdown",
   "metadata": {},
   "source": [
    "## 4.1 Fourier basis"
   ]
  },
  {
   "cell_type": "markdown",
   "metadata": {},
   "source": [
    "As in classical signal processing, the Fourier transform plays a central role in graph signal processing. Getting the Fourier basis is however computationally intensive as it needs to fully diagonalize the Laplacian. While it can be used to filter signals on graphs, a better alternative is to use one of the fast approximations (see `pygsp.filters.Filter.filter`). Let's compute it nonetheless to visualize the eigenvectors of the Laplacian. Analogous to classical Fourier analysis, they look like sinuses on the graph. Let's plot the second and third eigenvectors (the first is constant). Those are graph signals, i.e. functions $s: \\mathcal{V} \\rightarrow \\mathbb{R}^d$ which assign a set of values (a vector in $\\mathbb{R}^d$ at every node $v \\in \\mathcal{V}$ of the graph."
   ]
  },
  {
   "cell_type": "markdown",
   "metadata": {},
   "source": [
    "The graph Fourier basis $U = [u_1, \\ldots, u_N]$, where $u_i$ is the $i^\\text{th}$ Fourier mode, is given by the eigendecomposition of the graph Laplacian $L$ such as\n",
    "$$ L = U \\Lambda U^\\intercal. $$\n",
    "$\\Lambda = \\operatorname{diag}([\\lambda_1, \\ldots, \\lambda_N])$ is the diagonal matrix of squared \"graph frequencies\".\n",
    "\n",
    "Indeed, the following relation holds:\n",
    "$$ \\lambda_i = u_i^\\intercal L u_i $$"
   ]
  },
  {
   "cell_type": "markdown",
   "metadata": {},
   "source": [
    "The parallel with classical signal processing is best seen on a ring graph, where the graph Fourier basis is equivalent to the classical Fourier basis. The following plot shows some eigenvectors drawn on a 1D and 2D embedding of the ring graph. While the signals are easier to interpret on a 1D plot, the 2D plot best represents the graph."
   ]
  },
  {
   "cell_type": "code",
   "execution_count": null,
   "metadata": {},
   "outputs": [],
   "source": [
    "graph = graphs.Ring(N=50)\n",
    "graph.compute_fourier_basis()\n",
    "fig, axes = plt.subplots(1, 2, figsize=(10, 4))\n",
    "graph.plot_signal(graph.U[:, 4], ax=axes[0])\n",
    "graph.set_coordinates('line1D')\n",
    "graph.plot_signal(graph.U[:, 1:4], ax=axes[1])\n",
    "fig.tight_layout()"
   ]
  },
  {
   "cell_type": "markdown",
   "metadata": {},
   "source": [
    "Similarly, on the 2D Euclidean domain that is the grid graph."
   ]
  },
  {
   "cell_type": "code",
   "execution_count": null,
   "metadata": {},
   "outputs": [],
   "source": [
    "fig, axes = plt.subplots(1, 7, figsize=(15, 2.5))\n",
    "\n",
    "G = graphs.Grid2d(10, 10)\n",
    "G.compute_fourier_basis()\n",
    "\n",
    "limits = [f(G.U[:, :len(axes)]) for f in (np.min, np.max)]\n",
    "\n",
    "for i, ax in enumerate(axes):\n",
    "    G.plot_signal(G.U[:, i], limits=limits, colorbar=False, vertex_size=50, ax=ax)\n",
    "    ax.set_title(f'eigenvector $u_{i+1}$')\n",
    "    ax.set_axis_off()"
   ]
  },
  {
   "cell_type": "markdown",
   "metadata": {},
   "source": [
    "On more complicated domains, the intuition that lower frequencies should be smooth transfers."
   ]
  },
  {
   "cell_type": "code",
   "execution_count": null,
   "metadata": {},
   "outputs": [],
   "source": [
    "graph = graphs.Logo()\n",
    "graph.compute_fourier_basis()\n",
    "\n",
    "fig, axes = plt.subplots(1, 2, figsize=(10, 3))\n",
    "for i, ax in enumerate(axes):\n",
    "    graph.plot_signal(graph.U[:, i+1], vertex_size=30, ax=ax)\n",
    "    _ = ax.set_title('Eigenvector {}'.format(i+2))\n",
    "    ax.set_axis_off()\n",
    "fig.tight_layout()"
   ]
  },
  {
   "cell_type": "code",
   "execution_count": null,
   "metadata": {},
   "outputs": [],
   "source": [
    "fig, axes = plt.subplots(1, 7, figsize=(15, 2.5))\n",
    "\n",
    "G = graphs.Sensor(seed=42)\n",
    "G.compute_fourier_basis()\n",
    "\n",
    "limits = [f(G.U[:, :len(axes)]) for f in (np.min, np.max)]\n",
    "\n",
    "for i, ax in enumerate(axes):\n",
    "    G.plot_signal(G.U[:, i], limits=limits, colorbar=False, vertex_size=50, ax=ax)\n",
    "    ax.set_title(f'eigenvector $u_{i+1}$')\n",
    "    ax.set_axis_off()"
   ]
  },
  {
   "cell_type": "markdown",
   "metadata": {},
   "source": [
    "#### Localization of some eigenvectors\n",
    "A fundamental property of the classical Fourier modes is that they are delocalized. Put differently: a signal can never be localized in time/space and in the Fourier space. This Heisenberg principle does not transfer to graphs so easily. For instance, let us look at a very irregular graph: the comet graph. "
   ]
  },
  {
   "cell_type": "code",
   "execution_count": null,
   "metadata": {},
   "outputs": [],
   "source": [
    "G = graphs.Comet(N=30, k=20)\n",
    "graph.set_coordinates('spring')\n",
    "G.compute_fourier_basis()\n",
    "G.plot()"
   ]
  },
  {
   "cell_type": "code",
   "execution_count": null,
   "metadata": {},
   "outputs": [],
   "source": [
    "plt.figure(figsize=(10, 10))\n",
    "plt.imshow(np.abs(G.U))\n",
    "plt.colorbar()\n",
    "print('The largest entry in the Fourier basis is ' + str(np.max(np.abs(G.U))))"
   ]
  },
  {
   "cell_type": "markdown",
   "metadata": {},
   "source": [
    "Some Fourier modes are very localized! In fact, one can build graphs such that at least one of its Fourier modes tends to a Dirac. The localization phenomenon is not very well understood and controlled. It appears mostly at high frequency and on irregular graphs (even though you might have encountered localization when playing with the spectrum of SBMs in notebook 2). One always need to keep in mind this localization effect: some intuitions from the 'regular world' do not carry to arbitrary graphs!"
   ]
  },
  {
   "cell_type": "markdown",
   "metadata": {},
   "source": [
    "## 4.2 Graph Fourier transform\n",
    "\n",
    "The spectral content of a signal indicates if the signal is low-pass, band-pass, or high-pass. Again, intuition transfers from classical Fourier analysis."
   ]
  },
  {
   "cell_type": "code",
   "execution_count": null,
   "metadata": {},
   "outputs": [],
   "source": [
    "from pygsp import filters"
   ]
  },
  {
   "cell_type": "code",
   "execution_count": null,
   "metadata": {},
   "outputs": [],
   "source": [
    "G = graphs.Sensor(seed=42)\n",
    "G.compute_fourier_basis()\n",
    "\n",
    "taus = [0, 3, 10]\n",
    "fig, axes = plt.subplots(len(taus), 2, figsize=(11, 6))\n",
    "\n",
    "x0 = np.random.RandomState(1).normal(size=G.N)\n",
    "for i, tau in enumerate(taus):\n",
    "    g = filters.Heat(G, tau)\n",
    "    x = g.filter(x0).squeeze()\n",
    "    x_hat = G.gft(x).squeeze()\n",
    "    \n",
    "    G.plot_signal(x, ax=axes[i, 0])\n",
    "    axes[i, 0].set_axis_off()\n",
    "    axes[i, 0].text(0, -0.2, '$x^T L x = {:.2f}$'.format(x.T @ G.L @ x))\n",
    "    \n",
    "    axes[i, 1].plot(G.e, np.abs(x_hat), '.-')\n",
    "    \n",
    "    #g.plot(ax=axes[i, 2])\n",
    "    #axes[i, 2].set_xlabel('')\n",
    "    #axes[i, 2].set_ylabel('')\n",
    "    \n",
    "axes[0, 0].set_title(r'$x$: signal in the vertex domain')\n",
    "axes[0, 1].set_title(r'$\\hat{x}$: signal in the spectral domain')\n",
    "#axes[0, 2].set_title('Filter applied to white noise')\n",
    "axes[-1, 1].set_xlabel(\"laplacian's eigenvalues / graph frequencies\")\n",
    "#axes[-1, 2].set_xlabel(\"laplacian's eigenvalues / graph frequencies\")"
   ]
  },
  {
   "cell_type": "markdown",
   "metadata": {},
   "source": [
    "## 4.3 Exercise\n",
    "\n",
    "Verify $ \\lambda_i = u_i^\\intercal L u_i $ computationally."
   ]
  },
  {
   "cell_type": "code",
   "execution_count": null,
   "metadata": {},
   "outputs": [],
   "source": [
    "# Your code here."
   ]
  },
  {
   "cell_type": "markdown",
   "metadata": {},
   "source": [
    "1. Make a band-pass signal in the spectral domain.\n",
    "1. Compute the inverse Fourier transform.\n",
    "1. Visualize your signal in the vertex domain."
   ]
  },
  {
   "cell_type": "code",
   "execution_count": null,
   "metadata": {},
   "outputs": [],
   "source": [
    "# Your code here."
   ]
  }
 ],
 "metadata": {
  "kernelspec": {
   "display_name": "Python 3",
   "language": "python",
   "name": "python3"
  },
  "language_info": {
   "codemirror_mode": {
    "name": "ipython",
    "version": 3
   },
   "file_extension": ".py",
   "mimetype": "text/x-python",
   "name": "python",
   "nbconvert_exporter": "python",
   "pygments_lexer": "ipython3",
   "version": "3.7.0"
  }
 },
 "nbformat": 4,
 "nbformat_minor": 2
}
