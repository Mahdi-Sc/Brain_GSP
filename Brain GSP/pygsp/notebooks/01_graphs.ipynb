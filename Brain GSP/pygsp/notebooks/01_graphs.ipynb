{
 "cells": [
  {
   "cell_type": "markdown",
   "metadata": {},
   "source": [
    "# 1 Graphs"
   ]
  },
  {
   "cell_type": "code",
   "execution_count": null,
   "metadata": {},
   "outputs": [],
   "source": [
    "import numpy as np\n",
    "import scipy as sp\n",
    "import matplotlib.pyplot as plt\n",
    "from pygsp import graphs"
   ]
  },
  {
   "cell_type": "markdown",
   "metadata": {},
   "source": [
    "## 1.1 Creation\n",
    "\n",
    "Most likely, the first thing you would like to do is to create a graph. In this toolbox, a graph is encoded as a weighted adjacency matrix. That is because it’s the most efficient representation to deal with when using spectral methods. As such, you can construct a graph from any adjacency matrix as follows."
   ]
  },
  {
   "cell_type": "code",
   "execution_count": null,
   "metadata": {},
   "outputs": [],
   "source": [
    "W = np.random.uniform(size=(30, 30))  # Full graph.\n",
    "W[W < 0.93] = 0  # Sparse graph.\n",
    "W = W + W.T  # Symmetric graph.\n",
    "np.fill_diagonal(W, 0)  # No self-loops.\n",
    "\n",
    "G = graphs.Graph(W)\n",
    "\n",
    "print(f'{G.N} nodes, {G.Ne} edges')"
   ]
  },
  {
   "cell_type": "markdown",
   "metadata": {},
   "source": [
    "Graphs can also be created from network models, such as the well-known [Erdős–Rényi](https://en.wikipedia.org/wiki/Erd%C5%91s%E2%80%93R%C3%A9nyi_model)."
   ]
  },
  {
   "cell_type": "code",
   "execution_count": null,
   "metadata": {},
   "outputs": [],
   "source": [
    "G = graphs.ErdosRenyi(50, p=0.2)\n",
    "print(f'{G.N} nodes, {G.Ne} edges')"
   ]
  },
  {
   "cell_type": "code",
   "execution_count": null,
   "metadata": {},
   "outputs": [],
   "source": [
    "G = graphs.Community(N=100, Nc=5)\n",
    "print(f'{G.N} nodes, {G.Ne} edges')"
   ]
  },
  {
   "cell_type": "markdown",
   "metadata": {},
   "source": [
    "Finally, graphs can also be constructed from a set of points in $\\mathbb{R}^d$.\n",
    "\n",
    "Let $\\mathbf{X}$ be a data matrix $\\mathbf{X} = [\\mathbf{x}_1, \\ldots, \\mathbf{x}_N]^\\intercal \\in \\mathbb{R}^{N \\times d}$, where each $\\mathbf{x} \\in \\mathbb{R}^d$ is a sample for which we have $d$ features."
   ]
  },
  {
   "cell_type": "code",
   "execution_count": null,
   "metadata": {},
   "outputs": [],
   "source": [
    "n_points = 100\n",
    "dimensionality = 2\n",
    "points = np.random.uniform(size=(n_points, dimensionality))\n",
    "plt.scatter(points[:, 0], points[:, 1]);"
   ]
  },
  {
   "cell_type": "markdown",
   "metadata": {},
   "source": [
    "We may separate the task of building a graph from a set of points in two sub-tasks:\n",
    "* **Finding the structure (the existing edges)**. Two classical approaches are:\n",
    "    * connecting a point to its $k$-nearest neighbors (kNN graph),\n",
    "    * connecting a point to all points closer than $\\epsilon$ (in some measure); \n",
    "* **Associate a weight to each existing edge** (optional). In general, we want that the closer a pair of points, the larger the weight on the associated edge. A classical option is the Gaussian kernel:\n",
    "$$\\mathbf{W}[i,j] = \\exp(-\\frac{||\\mathbf{x}_i - \\mathbf{x}_j||^2_2 }{ \\sigma^2})$$ "
   ]
  },
  {
   "cell_type": "code",
   "execution_count": null,
   "metadata": {},
   "outputs": [],
   "source": [
    "sigma=0.1"
   ]
  },
  {
   "cell_type": "code",
   "execution_count": null,
   "metadata": {},
   "outputs": [],
   "source": [
    "G = graphs.NNGraph(points, NNtype='knn', k=2, sigma = sigma**2, rescale=False, symmetrize_type='maximum')\n",
    "print(f'{G.N} nodes, {G.Ne} edges')"
   ]
  },
  {
   "cell_type": "code",
   "execution_count": null,
   "metadata": {},
   "outputs": [],
   "source": [
    "G = graphs.NNGraph(points, NNtype='radius', epsilon=0.1, sigma = sigma**2, rescale=False, symmetrize_type='maximum')\n",
    "print(f'{G.N} nodes, {G.Ne} edges')"
   ]
  },
  {
   "cell_type": "markdown",
   "metadata": {},
   "source": [
    "## 1.2 Properties"
   ]
  },
  {
   "cell_type": "markdown",
   "metadata": {},
   "source": [
    "The [pygsp.graphs.Graph](https://pygsp.readthedocs.io/en/stable/reference/graphs.html) class we just instantiated is the base class\n",
    "for all graph objects, which offers many methods and attributes.\n",
    "\n",
    "Given, a graph object, we can access and test some properties."
   ]
  },
  {
   "cell_type": "markdown",
   "metadata": {},
   "source": [
    "As we've used before, there is the number of nodes and edges."
   ]
  },
  {
   "cell_type": "code",
   "execution_count": null,
   "metadata": {},
   "outputs": [],
   "source": [
    "print(G.N)\n",
    "print(G.Ne)"
   ]
  },
  {
   "cell_type": "markdown",
   "metadata": {},
   "source": [
    "We can also test if the graph is connected or directed."
   ]
  },
  {
   "cell_type": "code",
   "execution_count": null,
   "metadata": {},
   "outputs": [],
   "source": [
    "print(G.is_connected())\n",
    "print(G.is_directed())"
   ]
  },
  {
   "cell_type": "markdown",
   "metadata": {},
   "source": [
    "We can retrieve the weighted adjacency matrix, which is stored in a sparse format."
   ]
  },
  {
   "cell_type": "code",
   "execution_count": null,
   "metadata": {},
   "outputs": [],
   "source": [
    "G.W"
   ]
  },
  {
   "cell_type": "markdown",
   "metadata": {},
   "source": [
    "And visualize its sparsity pattern:"
   ]
  },
  {
   "cell_type": "code",
   "execution_count": null,
   "metadata": {},
   "outputs": [],
   "source": [
    "plt.spy(G.W, markersize=5);\n",
    "#plt.imshow(G.W.toarray());"
   ]
  },
  {
   "cell_type": "markdown",
   "metadata": {},
   "source": [
    "We can access the [graph Laplacian](https://en.wikipedia.org/wiki/Laplacian_matrix), defined as\n",
    "$$ L = D - W $$\n",
    "for the combinatorial Laplacian, and\n",
    "$$ L = I - D^{-1/2} W  D^{-1/2} $$\n",
    "for the normalized Laplacian, where $D$ is the diagonal degree matrix."
   ]
  },
  {
   "cell_type": "code",
   "execution_count": null,
   "metadata": {},
   "outputs": [],
   "source": [
    "G.compute_laplacian('combinatorial') \n",
    "#or G.compute_laplacian('normalized') ##the normalized Lap may yield an error if there exist a node with degree 0!\n",
    "G.L"
   ]
  },
  {
   "cell_type": "markdown",
   "metadata": {},
   "source": [
    "We can also get another representation of a graph: the edge list.\n",
    "Note that if the graph is not directed the number of edges is half the number of non-zeros in the adjacency matrix."
   ]
  },
  {
   "cell_type": "code",
   "execution_count": null,
   "metadata": {},
   "outputs": [],
   "source": [
    "v_in, v_out, weights = G.get_edge_list()\n",
    "print(v_in.shape, v_out.shape, weights.shape)"
   ]
  },
  {
   "cell_type": "markdown",
   "metadata": {},
   "source": [
    "## 1.3 Visualization"
   ]
  },
  {
   "cell_type": "markdown",
   "metadata": {},
   "source": [
    "To be able to plot a graph, we need to embed its nodes in a 2D or 3D space. The process to find coordinates for each nodes is called [layout](https://en.wikipedia.org/wiki/Graph_drawing). Most included graph models define these. If that's not the case, or if you create the graph from an adjacency matrix, [`pygsp.graphs.Graph.set_coordinates()`](https://pygsp.readthedocs.io/en/stable/reference/graphs.html#pygsp.graphs.Graph.set_coordinates) can be used to set it."
   ]
  },
  {
   "cell_type": "markdown",
   "metadata": {},
   "source": [
    "In our previous example, the nodes had a natural 2D embedding. It is thus logical to plot it using the 2D coordinates of each point in the point cloud:"
   ]
  },
  {
   "cell_type": "code",
   "execution_count": null,
   "metadata": {},
   "outputs": [],
   "source": [
    "G.plot()"
   ]
  },
  {
   "cell_type": "markdown",
   "metadata": {},
   "source": [
    "Nevertheless, the **same** graph could be drawn in many different ways. Below are two different options:"
   ]
  },
  {
   "cell_type": "code",
   "execution_count": null,
   "metadata": {},
   "outputs": [],
   "source": [
    "G2 = graphs.Graph(G.W)\n",
    "G2.set_coordinates(kind='ring2D') #here with a spring based algorithm\n",
    "G2.plot()"
   ]
  },
  {
   "cell_type": "code",
   "execution_count": null,
   "metadata": {},
   "outputs": [],
   "source": [
    "G2 = graphs.Graph(G.W)\n",
    "G2.set_coordinates(kind='spring') #here with a spring based algorithm\n",
    "G2.plot()"
   ]
  },
  {
   "cell_type": "markdown",
   "metadata": {},
   "source": [
    "For a more interactive visualization, you can use [Gephi](https://gephi.org/) or [Cytoscape](http://www.cytoscape.org/)."
   ]
  },
  {
   "cell_type": "markdown",
   "metadata": {},
   "source": [
    "## 1.4 Exercise: The Barabasi-Albert model\n",
    "\n",
    "1. Create a graph from the [Barabási–Albert](https://en.wikipedia.org/wiki/Barab%C3%A1si%E2%80%93Albert_model) model.\n",
    "2. Compute and plot its degree distributions.\n",
    "3. Plot the graph in 2D with a force-directed layout."
   ]
  },
  {
   "cell_type": "code",
   "execution_count": null,
   "metadata": {},
   "outputs": [],
   "source": [
    "# Your code here."
   ]
  },
  {
   "cell_type": "markdown",
   "metadata": {},
   "source": [
    "## 1.5 Exercise: connectedness phase transition in Erdös-Rényi graphs"
   ]
  },
  {
   "cell_type": "markdown",
   "metadata": {},
   "source": [
    "Erdös Rényi graphs have a \"connectedness phase transition\" at $p=\\frac{\\log{N}}{N}$. That is, as $N\\rightarrow\\infty$:\n",
    "* if $p<\\frac{\\log{N}}{N}$ the graph is a.s. disconnected\n",
    "* if $p>\\frac{\\log{N}}{N}$ the graph is a.s. connected\n",
    "\n",
    "Illustrate this phase transition computationally"
   ]
  },
  {
   "cell_type": "code",
   "execution_count": null,
   "metadata": {},
   "outputs": [],
   "source": [
    "# Your code here."
   ]
  }
 ],
 "metadata": {
  "kernelspec": {
   "display_name": "Python 3",
   "language": "python",
   "name": "python3"
  },
  "language_info": {
   "codemirror_mode": {
    "name": "ipython",
    "version": 3
   },
   "file_extension": ".py",
   "mimetype": "text/x-python",
   "name": "python",
   "nbconvert_exporter": "python",
   "pygments_lexer": "ipython3",
   "version": "3.7.0"
  }
 },
 "nbformat": 4,
 "nbformat_minor": 2
}
